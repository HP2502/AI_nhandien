{
  "nbformat": 4,
  "nbformat_minor": 0,
  "metadata": {
    "colab": {
      "name": "10LoaiTraiCay.ipynb",
      "provenance": []
    },
    "kernelspec": {
      "name": "python3",
      "display_name": "Python 3"
    },
    "language_info": {
      "name": "python"
    }
  },
  "cells": [
    {
      "cell_type": "code",
      "execution_count": 1,
      "metadata": {
        "colab": {
          "base_uri": "https://localhost:8080/"
        },
        "id": "e7QUWP6UhNZW",
        "outputId": "acfda909-823c-4eb2-cc3c-c994ce946768"
      },
      "outputs": [
        {
          "output_type": "stream",
          "name": "stdout",
          "text": [
            "Mounted at /content/drive\n"
          ]
        }
      ],
      "source": [
        "#Kết nối Drive với ggcolab\n",
        "from google.colab import drive\n",
        "drive.mount('/content/drive')"
      ]
    },
    {
      "cell_type": "code",
      "source": [
        "#KHAI BÁO TẤT CẢ THƯ VIỆN CẦN DÙNG\n",
        "from keras.preprocessing.image import load_img, img_to_array,array_to_img,ImageDataGenerator, image\n",
        "from keras.layers import Dense,Activation,Dropout,Conv2D,MaxPooling2D,Flatten\n",
        "from tensorflow.keras.preprocessing.image import ImageDataGenerator\n",
        "from keras.preprocessing.image import img_to_array\n",
        "from tensorflow.keras.preprocessing import image\n",
        "from tensorflow.keras.models import load_model\n",
        "from keras.models import  Sequential\n",
        "\n",
        "import numpy as np\n",
        "import matplotlib.pyplot as plt\n",
        "import tensorflow as tf\n",
        "import pandas as pd\n",
        "import os"
      ],
      "metadata": {
        "id": "HjoGd-AThQYt"
      },
      "execution_count": 2,
      "outputs": []
    },
    {
      "cell_type": "code",
      "source": [
        "import numpy as np\n",
        "import matplotlib.pyplot as plt\n",
        "import tensorflow as tf\n",
        "import pandas as pd"
      ],
      "metadata": {
        "id": "tdiX0YBEhZTL"
      },
      "execution_count": 3,
      "outputs": []
    },
    {
      "cell_type": "code",
      "source": [
        "train_data = '/content/drive/MyDrive/AI/10_TraiCay/TRAIN'\n",
        "test_data =  '/content/drive/MyDrive/AI/10_TraiCay/TEST'\n",
        "val_data  =  '/content/drive/MyDrive/AI/10_TraiCay/TEST'"
      ],
      "metadata": {
        "id": "Jn7BVIgGhddV"
      },
      "execution_count": 4,
      "outputs": []
    },
    {
      "cell_type": "code",
      "source": [
        "from keras.engine.data_adapter import train_validation_split\n",
        "#CHỈNH LẠI TỈ LỆ VÀ PRE-PREPROCESSING DATA\n",
        "\n",
        "data_scale = ImageDataGenerator(\n",
        "              rescale=1. / 255,\n",
        "              shear_range=0.2,\n",
        "              zoom_range=0.2,\n",
        "              horizontal_flip=True)\n",
        "\n",
        "train_input = data_scale.flow_from_directory(train_data,\n",
        "                        target_size=(120, 120),\n",
        "                        batch_size=32,\n",
        "                        class_mode=\"categorical\")\n",
        "test_input = data_scale.flow_from_directory(test_data,\n",
        "                        target_size=(120, 120),\n",
        "                        batch_size=32,\n",
        "                        class_mode=\"categorical\")\n",
        "val_input = data_scale.flow_from_directory(val_data,\n",
        "                        target_size=(120, 120),\n",
        "                        batch_size=32,\n",
        "                        class_mode=\"categorical\")\n",
        "\n"
      ],
      "metadata": {
        "colab": {
          "base_uri": "https://localhost:8080/"
        },
        "id": "EEu2ejPmmQT8",
        "outputId": "2fe450d2-c565-47c5-9da7-33e48840802a"
      },
      "execution_count": 5,
      "outputs": [
        {
          "output_type": "stream",
          "name": "stdout",
          "text": [
            "Found 387 images belonging to 10 classes.\n",
            "Found 107 images belonging to 10 classes.\n",
            "Found 107 images belonging to 10 classes.\n"
          ]
        }
      ]
    },
    {
      "cell_type": "code",
      "source": [
        "#ĐẶT NHÃN\n",
        "class_name = ['CAM', 'CÀ RỐT', 'CHUỐI', 'MÃNG CẦU', 'MẬN', 'NHÃN', 'ỔI', 'SẦU RIÊNG', 'TÁO','XOÀI']\n",
        "\n",
        "#IN NHÃN VÀ ĐẶT GIÁ TRỊ CHO TỪNG PHẦN TỬ\n",
        "print(\"labels: \", class_name)\n",
        "print(\"match class: \", train_input.class_indices)\n",
        "print(\"Tổng cộng các loại trai cay: \",train_input.num_classes)"
      ],
      "metadata": {
        "colab": {
          "base_uri": "https://localhost:8080/"
        },
        "id": "Rnh5n9xkmj97",
        "outputId": "45ee027b-21b6-4f41-c9f3-addd76c0285a"
      },
      "execution_count": 6,
      "outputs": [
        {
          "output_type": "stream",
          "name": "stdout",
          "text": [
            "labels:  ['CAM', 'CÀ RỐT', 'CHUỐI', 'MÃNG CẦU', 'MẬN', 'NHÃN', 'ỔI', 'SẦU RIÊNG', 'TÁO', 'XOÀI']\n",
            "match class:  {'CAM': 0, 'CÀ RỐT': 1, 'CHUỐI': 2, 'MÃNG CẦU': 3, 'MẬN': 4, 'NHÃN': 5, 'ỔI': 6, 'SẦU RIÊNG': 7, 'TÁO': 8, 'XOÀI': 9}\n",
            "Tổng cộng các loại trai cay:  10\n"
          ]
        }
      ]
    },
    {
      "cell_type": "code",
      "source": [
        "#XÂY DỰNG MODEL CNN\n",
        "model=Sequential()\n",
        "\n",
        "#TRÍCH XUẤT TẬP DỮ LIỆU(FEATURE EXTRACTORS)\n",
        "#LAYER 1\n",
        "model.add(Conv2D(32,(3,3),activation='relu',kernel_initializer='he_uniform',padding='same', input_shape=(120,120,3)))\n",
        "model.add(MaxPooling2D((2,2)))\n",
        "model.add(Dropout(0.25))\n",
        "#LAYER 2\n",
        "model.add(Conv2D(64,(3,3),activation='relu',kernel_initializer='he_uniform',padding='same'))\n",
        "model.add(MaxPooling2D((2,2)))\n",
        "model.add(Dropout(0.25))\n",
        "#LAYER 3\n",
        "model.add(Conv2D(128,(3,3),activation='relu',kernel_initializer='he_uniform',padding='same'))\n",
        "model.add(MaxPooling2D((2,2)))\n",
        "model.add(Dropout(0.25))\n",
        "\n",
        "#FULLY CONNECTED LAYER\n",
        "#Flatten Layer is used to change the dimension of output from convolution layer, which has 3D, to 2D output\n",
        "model.add(Flatten())\n",
        "\n",
        "#Dense(512) is a fully-connected layer with 128 hidden units\n",
        "model.add(Dense(512,activation='relu'))\n",
        "model.add(Dropout(0.25))\n",
        "model.add(Dense(512,activation='relu'))\n",
        "model.add(Dropout(0.25))\n",
        "\n",
        "model.add(Dense(10,activation='softmax'))  #10 class_name\n",
        "model.summary()"
      ],
      "metadata": {
        "colab": {
          "base_uri": "https://localhost:8080/"
        },
        "id": "06-idlmXnGa_",
        "outputId": "82d704ba-4970-4cb7-e59f-691b8dbbb85e"
      },
      "execution_count": 7,
      "outputs": [
        {
          "output_type": "stream",
          "name": "stdout",
          "text": [
            "Model: \"sequential\"\n",
            "_________________________________________________________________\n",
            " Layer (type)                Output Shape              Param #   \n",
            "=================================================================\n",
            " conv2d (Conv2D)             (None, 120, 120, 32)      896       \n",
            "                                                                 \n",
            " max_pooling2d (MaxPooling2D  (None, 60, 60, 32)       0         \n",
            " )                                                               \n",
            "                                                                 \n",
            " dropout (Dropout)           (None, 60, 60, 32)        0         \n",
            "                                                                 \n",
            " conv2d_1 (Conv2D)           (None, 60, 60, 64)        18496     \n",
            "                                                                 \n",
            " max_pooling2d_1 (MaxPooling  (None, 30, 30, 64)       0         \n",
            " 2D)                                                             \n",
            "                                                                 \n",
            " dropout_1 (Dropout)         (None, 30, 30, 64)        0         \n",
            "                                                                 \n",
            " conv2d_2 (Conv2D)           (None, 30, 30, 128)       73856     \n",
            "                                                                 \n",
            " max_pooling2d_2 (MaxPooling  (None, 15, 15, 128)      0         \n",
            " 2D)                                                             \n",
            "                                                                 \n",
            " dropout_2 (Dropout)         (None, 15, 15, 128)       0         \n",
            "                                                                 \n",
            " flatten (Flatten)           (None, 28800)             0         \n",
            "                                                                 \n",
            " dense (Dense)               (None, 512)               14746112  \n",
            "                                                                 \n",
            " dropout_3 (Dropout)         (None, 512)               0         \n",
            "                                                                 \n",
            " dense_1 (Dense)             (None, 512)               262656    \n",
            "                                                                 \n",
            " dropout_4 (Dropout)         (None, 512)               0         \n",
            "                                                                 \n",
            " dense_2 (Dense)             (None, 10)                5130      \n",
            "                                                                 \n",
            "=================================================================\n",
            "Total params: 15,107,146\n",
            "Trainable params: 15,107,146\n",
            "Non-trainable params: 0\n",
            "_________________________________________________________________\n"
          ]
        }
      ]
    },
    {
      "cell_type": "code",
      "source": [
        "from tensorflow.keras.optimizers import Adam\n",
        "opt = Adam(learning_rate=0.001)\n",
        "model.compile(loss='categorical_crossentropy',optimizer='adam',metrics=['accuracy'])"
      ],
      "metadata": {
        "id": "Qv5yz268nN1y"
      },
      "execution_count": 8,
      "outputs": []
    },
    {
      "cell_type": "code",
      "source": [
        "fruit_train = model.fit(train_input,batch_size=30,epochs=100,verbose=1,validation_data=val_input)"
      ],
      "metadata": {
        "colab": {
          "base_uri": "https://localhost:8080/"
        },
        "id": "-8y3b8yUoF1i",
        "outputId": "8c574f26-7693-4ae6-905f-6b88a2656fe5"
      },
      "execution_count": 9,
      "outputs": [
        {
          "output_type": "stream",
          "name": "stdout",
          "text": [
            "Epoch 1/100\n",
            "13/13 [==============================] - 163s 12s/step - loss: 15.2572 - accuracy: 0.1240 - val_loss: 2.2939 - val_accuracy: 0.1121\n",
            "Epoch 2/100\n",
            "13/13 [==============================] - 15s 1s/step - loss: 2.3283 - accuracy: 0.1370 - val_loss: 2.2631 - val_accuracy: 0.1495\n",
            "Epoch 3/100\n",
            "13/13 [==============================] - 15s 1s/step - loss: 2.2024 - accuracy: 0.2145 - val_loss: 2.1305 - val_accuracy: 0.2430\n",
            "Epoch 4/100\n",
            "13/13 [==============================] - 15s 1s/step - loss: 1.9952 - accuracy: 0.2610 - val_loss: 1.9775 - val_accuracy: 0.2804\n",
            "Epoch 5/100\n",
            "13/13 [==============================] - 15s 1s/step - loss: 1.7498 - accuracy: 0.3463 - val_loss: 1.6996 - val_accuracy: 0.3364\n",
            "Epoch 6/100\n",
            "13/13 [==============================] - 15s 1s/step - loss: 1.5283 - accuracy: 0.3979 - val_loss: 1.4440 - val_accuracy: 0.3925\n",
            "Epoch 7/100\n",
            "13/13 [==============================] - 15s 1s/step - loss: 1.4549 - accuracy: 0.4005 - val_loss: 1.3763 - val_accuracy: 0.4393\n",
            "Epoch 8/100\n",
            "13/13 [==============================] - 15s 1s/step - loss: 1.2961 - accuracy: 0.4625 - val_loss: 1.2655 - val_accuracy: 0.5047\n",
            "Epoch 9/100\n",
            "13/13 [==============================] - 15s 1s/step - loss: 1.1970 - accuracy: 0.4755 - val_loss: 1.3132 - val_accuracy: 0.4486\n",
            "Epoch 10/100\n",
            "13/13 [==============================] - 15s 1s/step - loss: 1.2722 - accuracy: 0.4755 - val_loss: 1.3314 - val_accuracy: 0.4112\n",
            "Epoch 11/100\n",
            "13/13 [==============================] - 15s 1s/step - loss: 1.2308 - accuracy: 0.5116 - val_loss: 1.1845 - val_accuracy: 0.6075\n",
            "Epoch 12/100\n",
            "13/13 [==============================] - 15s 1s/step - loss: 1.1674 - accuracy: 0.5323 - val_loss: 1.3011 - val_accuracy: 0.4579\n",
            "Epoch 13/100\n",
            "13/13 [==============================] - 15s 1s/step - loss: 1.1119 - accuracy: 0.5401 - val_loss: 1.2172 - val_accuracy: 0.5234\n",
            "Epoch 14/100\n",
            "13/13 [==============================] - 15s 1s/step - loss: 1.1401 - accuracy: 0.5349 - val_loss: 1.1704 - val_accuracy: 0.5981\n",
            "Epoch 15/100\n",
            "13/13 [==============================] - 15s 1s/step - loss: 1.0330 - accuracy: 0.5607 - val_loss: 1.0192 - val_accuracy: 0.5701\n",
            "Epoch 16/100\n",
            "13/13 [==============================] - 15s 1s/step - loss: 1.0348 - accuracy: 0.5891 - val_loss: 1.0352 - val_accuracy: 0.6822\n",
            "Epoch 17/100\n",
            "13/13 [==============================] - 15s 1s/step - loss: 0.9171 - accuracy: 0.6227 - val_loss: 1.0900 - val_accuracy: 0.5701\n",
            "Epoch 18/100\n",
            "13/13 [==============================] - 15s 1s/step - loss: 0.9648 - accuracy: 0.5995 - val_loss: 1.0673 - val_accuracy: 0.5981\n",
            "Epoch 19/100\n",
            "13/13 [==============================] - 15s 1s/step - loss: 0.9170 - accuracy: 0.6253 - val_loss: 1.0181 - val_accuracy: 0.6542\n",
            "Epoch 20/100\n",
            "13/13 [==============================] - 15s 1s/step - loss: 1.0602 - accuracy: 0.6047 - val_loss: 1.2897 - val_accuracy: 0.5607\n",
            "Epoch 21/100\n",
            "13/13 [==============================] - 15s 1s/step - loss: 0.8302 - accuracy: 0.6925 - val_loss: 0.9197 - val_accuracy: 0.6262\n",
            "Epoch 22/100\n",
            "13/13 [==============================] - 15s 1s/step - loss: 0.8139 - accuracy: 0.6460 - val_loss: 0.8477 - val_accuracy: 0.6916\n",
            "Epoch 23/100\n",
            "13/13 [==============================] - 15s 1s/step - loss: 0.7148 - accuracy: 0.7028 - val_loss: 0.8956 - val_accuracy: 0.6168\n",
            "Epoch 24/100\n",
            "13/13 [==============================] - 15s 1s/step - loss: 0.6834 - accuracy: 0.7054 - val_loss: 0.9133 - val_accuracy: 0.5794\n",
            "Epoch 25/100\n",
            "13/13 [==============================] - 15s 1s/step - loss: 0.7965 - accuracy: 0.6925 - val_loss: 0.8415 - val_accuracy: 0.6355\n",
            "Epoch 26/100\n",
            "13/13 [==============================] - 15s 1s/step - loss: 0.6961 - accuracy: 0.7364 - val_loss: 0.7527 - val_accuracy: 0.7196\n",
            "Epoch 27/100\n",
            "13/13 [==============================] - 15s 1s/step - loss: 0.7069 - accuracy: 0.7106 - val_loss: 0.8912 - val_accuracy: 0.6542\n",
            "Epoch 28/100\n",
            "13/13 [==============================] - 15s 1s/step - loss: 0.6273 - accuracy: 0.7597 - val_loss: 0.8339 - val_accuracy: 0.7103\n",
            "Epoch 29/100\n",
            "13/13 [==============================] - 15s 1s/step - loss: 0.5581 - accuracy: 0.7855 - val_loss: 0.8277 - val_accuracy: 0.6822\n",
            "Epoch 30/100\n",
            "13/13 [==============================] - 15s 1s/step - loss: 0.6517 - accuracy: 0.7442 - val_loss: 0.7612 - val_accuracy: 0.7290\n",
            "Epoch 31/100\n",
            "13/13 [==============================] - 15s 1s/step - loss: 0.6502 - accuracy: 0.7364 - val_loss: 0.9474 - val_accuracy: 0.6449\n",
            "Epoch 32/100\n",
            "13/13 [==============================] - 15s 1s/step - loss: 0.5517 - accuracy: 0.7674 - val_loss: 0.7061 - val_accuracy: 0.7103\n",
            "Epoch 33/100\n",
            "13/13 [==============================] - 15s 1s/step - loss: 0.5847 - accuracy: 0.7752 - val_loss: 0.6323 - val_accuracy: 0.7477\n",
            "Epoch 34/100\n",
            "13/13 [==============================] - 15s 1s/step - loss: 0.5536 - accuracy: 0.7959 - val_loss: 0.7177 - val_accuracy: 0.6729\n",
            "Epoch 35/100\n",
            "13/13 [==============================] - 15s 1s/step - loss: 0.5055 - accuracy: 0.7984 - val_loss: 0.5695 - val_accuracy: 0.7664\n",
            "Epoch 36/100\n",
            "13/13 [==============================] - 15s 1s/step - loss: 0.4332 - accuracy: 0.8346 - val_loss: 0.5267 - val_accuracy: 0.7850\n",
            "Epoch 37/100\n",
            "13/13 [==============================] - 15s 1s/step - loss: 0.5392 - accuracy: 0.7984 - val_loss: 0.7329 - val_accuracy: 0.7383\n",
            "Epoch 38/100\n",
            "13/13 [==============================] - 15s 1s/step - loss: 0.5141 - accuracy: 0.7855 - val_loss: 0.6475 - val_accuracy: 0.7477\n",
            "Epoch 39/100\n",
            "13/13 [==============================] - 15s 1s/step - loss: 0.3929 - accuracy: 0.8553 - val_loss: 0.6956 - val_accuracy: 0.7850\n",
            "Epoch 40/100\n",
            "13/13 [==============================] - 15s 1s/step - loss: 0.3552 - accuracy: 0.8527 - val_loss: 0.7544 - val_accuracy: 0.7570\n",
            "Epoch 41/100\n",
            "13/13 [==============================] - 15s 1s/step - loss: 0.3495 - accuracy: 0.8656 - val_loss: 0.5853 - val_accuracy: 0.7944\n",
            "Epoch 42/100\n",
            "13/13 [==============================] - 15s 1s/step - loss: 0.3180 - accuracy: 0.8760 - val_loss: 0.6574 - val_accuracy: 0.7944\n",
            "Epoch 43/100\n",
            "13/13 [==============================] - 15s 1s/step - loss: 0.3444 - accuracy: 0.8656 - val_loss: 0.6661 - val_accuracy: 0.7757\n",
            "Epoch 44/100\n",
            "13/13 [==============================] - 15s 1s/step - loss: 0.3693 - accuracy: 0.8553 - val_loss: 0.5880 - val_accuracy: 0.7570\n",
            "Epoch 45/100\n",
            "13/13 [==============================] - 15s 1s/step - loss: 0.2975 - accuracy: 0.8941 - val_loss: 0.6084 - val_accuracy: 0.8411\n",
            "Epoch 46/100\n",
            "13/13 [==============================] - 15s 1s/step - loss: 0.3548 - accuracy: 0.8863 - val_loss: 0.5867 - val_accuracy: 0.8037\n",
            "Epoch 47/100\n",
            "13/13 [==============================] - 15s 1s/step - loss: 0.2979 - accuracy: 0.8941 - val_loss: 0.4321 - val_accuracy: 0.8505\n",
            "Epoch 48/100\n",
            "13/13 [==============================] - 15s 1s/step - loss: 0.3656 - accuracy: 0.8682 - val_loss: 0.4750 - val_accuracy: 0.8224\n",
            "Epoch 49/100\n",
            "13/13 [==============================] - 15s 1s/step - loss: 0.2611 - accuracy: 0.9121 - val_loss: 0.4960 - val_accuracy: 0.7944\n",
            "Epoch 50/100\n",
            "13/13 [==============================] - 15s 1s/step - loss: 0.2890 - accuracy: 0.9044 - val_loss: 0.5482 - val_accuracy: 0.8505\n",
            "Epoch 51/100\n",
            "13/13 [==============================] - 15s 1s/step - loss: 0.2863 - accuracy: 0.9044 - val_loss: 0.6579 - val_accuracy: 0.7850\n",
            "Epoch 52/100\n",
            "13/13 [==============================] - 15s 1s/step - loss: 0.2916 - accuracy: 0.8941 - val_loss: 0.5084 - val_accuracy: 0.8598\n",
            "Epoch 53/100\n",
            "13/13 [==============================] - 15s 1s/step - loss: 0.3387 - accuracy: 0.8786 - val_loss: 0.5104 - val_accuracy: 0.7944\n",
            "Epoch 54/100\n",
            "13/13 [==============================] - 15s 1s/step - loss: 0.1735 - accuracy: 0.9457 - val_loss: 0.5530 - val_accuracy: 0.8037\n",
            "Epoch 55/100\n",
            "13/13 [==============================] - 15s 1s/step - loss: 0.2443 - accuracy: 0.9199 - val_loss: 0.6145 - val_accuracy: 0.7944\n",
            "Epoch 56/100\n",
            "13/13 [==============================] - 15s 1s/step - loss: 0.2371 - accuracy: 0.8966 - val_loss: 0.4032 - val_accuracy: 0.8505\n",
            "Epoch 57/100\n",
            "13/13 [==============================] - 15s 1s/step - loss: 0.3116 - accuracy: 0.8786 - val_loss: 0.5322 - val_accuracy: 0.8598\n",
            "Epoch 58/100\n",
            "13/13 [==============================] - 15s 1s/step - loss: 0.2656 - accuracy: 0.9173 - val_loss: 0.4597 - val_accuracy: 0.8505\n",
            "Epoch 59/100\n",
            "13/13 [==============================] - 15s 1s/step - loss: 0.2272 - accuracy: 0.9302 - val_loss: 0.6022 - val_accuracy: 0.8318\n",
            "Epoch 60/100\n",
            "13/13 [==============================] - 15s 1s/step - loss: 0.1722 - accuracy: 0.9354 - val_loss: 0.3890 - val_accuracy: 0.8785\n",
            "Epoch 61/100\n",
            "13/13 [==============================] - 15s 1s/step - loss: 0.2161 - accuracy: 0.9199 - val_loss: 0.5197 - val_accuracy: 0.8598\n",
            "Epoch 62/100\n",
            "13/13 [==============================] - 15s 1s/step - loss: 0.1590 - accuracy: 0.9406 - val_loss: 0.5918 - val_accuracy: 0.8598\n",
            "Epoch 63/100\n",
            "13/13 [==============================] - 15s 1s/step - loss: 0.3013 - accuracy: 0.8941 - val_loss: 0.6310 - val_accuracy: 0.7757\n",
            "Epoch 64/100\n",
            "13/13 [==============================] - 15s 1s/step - loss: 0.3407 - accuracy: 0.8915 - val_loss: 0.7864 - val_accuracy: 0.7664\n",
            "Epoch 65/100\n",
            "13/13 [==============================] - 15s 1s/step - loss: 0.3412 - accuracy: 0.8630 - val_loss: 0.6535 - val_accuracy: 0.8037\n",
            "Epoch 66/100\n",
            "13/13 [==============================] - 15s 1s/step - loss: 0.2592 - accuracy: 0.8992 - val_loss: 0.5469 - val_accuracy: 0.8131\n",
            "Epoch 67/100\n",
            "13/13 [==============================] - 15s 1s/step - loss: 0.2113 - accuracy: 0.9199 - val_loss: 0.6110 - val_accuracy: 0.8318\n",
            "Epoch 68/100\n",
            "13/13 [==============================] - 15s 1s/step - loss: 0.1529 - accuracy: 0.9535 - val_loss: 0.5303 - val_accuracy: 0.8505\n",
            "Epoch 69/100\n",
            "13/13 [==============================] - 15s 1s/step - loss: 0.1507 - accuracy: 0.9535 - val_loss: 0.5495 - val_accuracy: 0.8318\n",
            "Epoch 70/100\n",
            "13/13 [==============================] - 15s 1s/step - loss: 0.1162 - accuracy: 0.9509 - val_loss: 0.5884 - val_accuracy: 0.8598\n",
            "Epoch 71/100\n",
            "13/13 [==============================] - 15s 1s/step - loss: 0.1329 - accuracy: 0.9457 - val_loss: 0.4576 - val_accuracy: 0.8505\n",
            "Epoch 72/100\n",
            "13/13 [==============================] - 15s 1s/step - loss: 0.1663 - accuracy: 0.9406 - val_loss: 0.6957 - val_accuracy: 0.7944\n",
            "Epoch 73/100\n",
            "13/13 [==============================] - 15s 1s/step - loss: 0.1752 - accuracy: 0.9354 - val_loss: 0.7517 - val_accuracy: 0.8224\n",
            "Epoch 74/100\n",
            "13/13 [==============================] - 15s 1s/step - loss: 0.0969 - accuracy: 0.9638 - val_loss: 0.6098 - val_accuracy: 0.8505\n",
            "Epoch 75/100\n",
            "13/13 [==============================] - 15s 1s/step - loss: 0.2295 - accuracy: 0.9354 - val_loss: 0.6041 - val_accuracy: 0.8318\n",
            "Epoch 76/100\n",
            "13/13 [==============================] - 15s 1s/step - loss: 0.3132 - accuracy: 0.9096 - val_loss: 0.6721 - val_accuracy: 0.8131\n",
            "Epoch 77/100\n",
            "13/13 [==============================] - 15s 1s/step - loss: 0.1831 - accuracy: 0.9302 - val_loss: 0.4770 - val_accuracy: 0.8224\n",
            "Epoch 78/100\n",
            "13/13 [==============================] - 15s 1s/step - loss: 0.1306 - accuracy: 0.9432 - val_loss: 0.6424 - val_accuracy: 0.8411\n",
            "Epoch 79/100\n",
            "13/13 [==============================] - 15s 1s/step - loss: 0.2170 - accuracy: 0.9276 - val_loss: 0.8187 - val_accuracy: 0.7570\n",
            "Epoch 80/100\n",
            "13/13 [==============================] - 15s 1s/step - loss: 0.1840 - accuracy: 0.9225 - val_loss: 0.7676 - val_accuracy: 0.7944\n",
            "Epoch 81/100\n",
            "13/13 [==============================] - 15s 1s/step - loss: 0.1190 - accuracy: 0.9509 - val_loss: 0.4635 - val_accuracy: 0.8692\n",
            "Epoch 82/100\n",
            "13/13 [==============================] - 15s 1s/step - loss: 0.1007 - accuracy: 0.9638 - val_loss: 0.4358 - val_accuracy: 0.8785\n",
            "Epoch 83/100\n",
            "13/13 [==============================] - 15s 1s/step - loss: 0.1252 - accuracy: 0.9561 - val_loss: 0.5574 - val_accuracy: 0.8318\n",
            "Epoch 84/100\n",
            "13/13 [==============================] - 15s 1s/step - loss: 0.1208 - accuracy: 0.9690 - val_loss: 0.5463 - val_accuracy: 0.8692\n",
            "Epoch 85/100\n",
            "13/13 [==============================] - 15s 1s/step - loss: 0.0926 - accuracy: 0.9664 - val_loss: 0.6514 - val_accuracy: 0.8224\n",
            "Epoch 86/100\n",
            "13/13 [==============================] - 15s 1s/step - loss: 0.0979 - accuracy: 0.9690 - val_loss: 1.1105 - val_accuracy: 0.7944\n",
            "Epoch 87/100\n",
            "13/13 [==============================] - 15s 1s/step - loss: 0.1212 - accuracy: 0.9587 - val_loss: 0.8482 - val_accuracy: 0.8224\n",
            "Epoch 88/100\n",
            "13/13 [==============================] - 15s 1s/step - loss: 0.1363 - accuracy: 0.9535 - val_loss: 0.7768 - val_accuracy: 0.7850\n",
            "Epoch 89/100\n",
            "13/13 [==============================] - 15s 1s/step - loss: 0.1522 - accuracy: 0.9457 - val_loss: 0.6384 - val_accuracy: 0.8131\n",
            "Epoch 90/100\n",
            "13/13 [==============================] - 15s 1s/step - loss: 0.1320 - accuracy: 0.9483 - val_loss: 0.6710 - val_accuracy: 0.8224\n",
            "Epoch 91/100\n",
            "13/13 [==============================] - 15s 1s/step - loss: 0.0840 - accuracy: 0.9587 - val_loss: 0.7575 - val_accuracy: 0.8224\n",
            "Epoch 92/100\n",
            "13/13 [==============================] - 15s 1s/step - loss: 0.1025 - accuracy: 0.9690 - val_loss: 0.7799 - val_accuracy: 0.8318\n",
            "Epoch 93/100\n",
            "13/13 [==============================] - 15s 1s/step - loss: 0.0883 - accuracy: 0.9793 - val_loss: 1.2521 - val_accuracy: 0.7850\n",
            "Epoch 94/100\n",
            "13/13 [==============================] - 15s 1s/step - loss: 0.2358 - accuracy: 0.9380 - val_loss: 1.0318 - val_accuracy: 0.8037\n",
            "Epoch 95/100\n",
            "13/13 [==============================] - 15s 1s/step - loss: 0.1179 - accuracy: 0.9561 - val_loss: 1.0855 - val_accuracy: 0.7570\n",
            "Epoch 96/100\n",
            "13/13 [==============================] - 15s 1s/step - loss: 0.0824 - accuracy: 0.9638 - val_loss: 0.7638 - val_accuracy: 0.7944\n",
            "Epoch 97/100\n",
            "13/13 [==============================] - 15s 1s/step - loss: 0.0854 - accuracy: 0.9742 - val_loss: 0.7582 - val_accuracy: 0.8411\n",
            "Epoch 98/100\n",
            "13/13 [==============================] - 15s 1s/step - loss: 0.0807 - accuracy: 0.9690 - val_loss: 0.7703 - val_accuracy: 0.8318\n",
            "Epoch 99/100\n",
            "13/13 [==============================] - 15s 1s/step - loss: 0.0579 - accuracy: 0.9638 - val_loss: 0.6437 - val_accuracy: 0.8411\n",
            "Epoch 100/100\n",
            "13/13 [==============================] - 15s 1s/step - loss: 0.1037 - accuracy: 0.9690 - val_loss: 0.9267 - val_accuracy: 0.8411\n"
          ]
        }
      ]
    },
    {
      "cell_type": "code",
      "source": [
        "model.save('/content/drive/MyDrive/AI/10_TraiCay/Fruit.h5')"
      ],
      "metadata": {
        "id": "sz9nUmfjYT9C"
      },
      "execution_count": 10,
      "outputs": []
    },
    {
      "cell_type": "code",
      "source": [
        "pic = image.load_img('/content/drive/MyDrive/AI/10_TraiCay/Xoai.jpg', target_size=(120,120)) \n",
        "plt.imshow(pic)\n",
        "pic = img_to_array(pic)\n",
        "pic = pic.reshape(1,120,120,3) \n",
        "pic = pic.astype('float32')\n",
        "pic = pic/255\n",
        "np.argmax(model.predict(pic), axis=1)"
      ],
      "metadata": {
        "colab": {
          "base_uri": "https://localhost:8080/",
          "height": 286
        },
        "id": "CpIcHovxsWOS",
        "outputId": "54be0e23-4498-4342-af1b-cdde825270e1"
      },
      "execution_count": 11,
      "outputs": [
        {
          "output_type": "execute_result",
          "data": {
            "text/plain": [
              "array([9])"
            ]
          },
          "metadata": {},
          "execution_count": 11
        },
        {
          "output_type": "display_data",
          "data": {
            "text/plain": [
              "<Figure size 432x288 with 1 Axes>"
            ],
            "image/png": "[encoded data removed]"
          },
          "metadata": {
            "needs_background": "light"
          }
        }
      ]
    },
    {
      "cell_type": "code",
      "source": [
        "# predict \n",
        "guess=np.argmax(model.predict(pic), axis=1)\n",
        "#đặt điều kiện\n",
        "if guess[0]==0:\n",
        "  print(\"Loai trai cay: CAM\")\n",
        "if guess[0]==1:\n",
        "  print(\"Loai trai cay: CA ROT\")\n",
        "if guess[0]==2:\n",
        "  print(\"Loai trai cay: CHUOI\")\n",
        "if guess[0]==3:\n",
        "  print(\"Loai trai cay: MANG CAU\")\n",
        "if guess[0]==4:\n",
        "  print(\"Loai trai cay: MAN\")\n",
        "if guess[0]==5:\n",
        "  print(\"Loai trai cay: NHAN\")\n",
        "if guess[0]==6:\n",
        "  print(\"Loai trai cay: OI\")\n",
        "if guess[0]==7:\n",
        "  print(\"Loai trai cay: SAU RIENG\")\n",
        "if guess[0]==8:\n",
        "  print(\"Loai trai cay: TAO\")\n",
        "if guess[0]==9:\n",
        "  print(\"Loai trai cay: XOAI\")\n"
      ],
      "metadata": {
        "colab": {
          "base_uri": "https://localhost:8080/"
        },
        "id": "ja-82xEc8vhF",
        "outputId": "5aa3f651-de09-4e17-931f-a1e1f2d36f4a"
      },
      "execution_count": 12,
      "outputs": [
        {
          "output_type": "stream",
          "name": "stdout",
          "text": [
            "Loai trai cay: XOAI\n"
          ]
        }
      ]
    }
  ]
}